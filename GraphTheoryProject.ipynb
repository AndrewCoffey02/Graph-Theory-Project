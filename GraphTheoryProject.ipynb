{
 "cells": [
  {
   "cell_type": "code",
   "execution_count": 1,
   "id": "396c6636-58fe-468e-a1df-13c3ba482488",
   "metadata": {},
   "outputs": [],
   "source": [
    "\n",
    "V1 = [\"a\",\"b\",\"c\",\"d\",\"e\",\"f\"]\n",
    "E1 = [{\"a\", \"b\"}, {\"a\", \"c\"}, {\"a\", \"d\"}, {\"a\", \"e\"}, {\"b\", \"d\"}, {\"b\", \"e\"}, {\"b\", \"f\"}, {\"c\", \"d\"}, {\"c\", \"f\"},\n",
    "{\"d\", \"f\"}, {\"e\", \"f\"}]\n",
    "V2 = [\"p\",\"q\",\"r\",\"s\",\"t\",\"u\"]\n",
    "E2 = [{\"p\", \"q\"}, {\"p\", \"s\"}, {\"p\", \"t\"}, {\"p\", \"u\"}, {\"q\", \"s\"}, {\"q\", \"t\"}, {\"r\", \"s\"}, {\"r\", \"t\"}, {\"r\", \"u\"}, {\"s\",\n",
    "\"u\"}, {\"t\", \"u\"}]\n",
    "\n",
    "G1 = (V1, E1)\n",
    "G2 = (V2, E2)"
   ]
  },
  {
   "cell_type": "code",
   "execution_count": 2,
   "id": "f558d50f-37e8-4db0-9d03-1b9f09a80f73",
   "metadata": {},
   "outputs": [
    {
     "name": "stdout",
     "output_type": "stream",
     "text": [
      "True\n"
     ]
    }
   ],
   "source": [
    "def compareVertices(Graph1, Graph2):\n",
    "\n",
    "    if len(Graph1[0]) != len(Graph2[0]):\n",
    "        return False\n",
    "    \n",
    "    return True\n",
    "    \n",
    "print(compareVertices(G1, G2))"
   ]
  },
  {
   "cell_type": "code",
   "execution_count": 3,
   "id": "f70b4f0a-d005-4520-9b91-0d45e54b6a00",
   "metadata": {},
   "outputs": [
    {
     "name": "stdout",
     "output_type": "stream",
     "text": [
      "True\n"
     ]
    }
   ],
   "source": [
    "def compareEdges(Graph1, Graph2):\n",
    "\n",
    "    if len(Graph1[1]) != len(Graph2[1]):\n",
    "        return False\n",
    "    \n",
    "    return True\n",
    "\n",
    "print(compareEdges(G1, G2))"
   ]
  },
  {
   "cell_type": "code",
   "execution_count": 4,
   "id": "37e101b5-53f0-4016-8306-922070c349be",
   "metadata": {},
   "outputs": [],
   "source": [
    "def getAdjacentGraph(graph):\n",
    "    mydictionary = {}\n",
    "    \n",
    "    for v in graph[0]:\n",
    "        mydictionary[v] = set(v)\n",
    "\n",
    "    for e in graph[1]:\n",
    "        [vx,vy] = list(e)\n",
    "        mydictionary[vx].add(vy)\n",
    "        mydictionary[vy].add(vx)\n",
    "\n",
    "    return mydictionary\n"
   ]
  },
  {
   "cell_type": "code",
   "execution_count": 5,
   "id": "120f1f35",
   "metadata": {},
   "outputs": [],
   "source": [
    "Graph1 = getAdjacentGraph(G1)\n",
    "Graph2 = getAdjacentGraph(G2)"
   ]
  },
  {
   "cell_type": "code",
   "execution_count": 24,
   "id": "beb0a1ce",
   "metadata": {},
   "outputs": [
    {
     "name": "stdout",
     "output_type": "stream",
     "text": [
      "[6, 6, 6, 6, 6, 6]\n"
     ]
    }
   ],
   "source": [
    "degree_seq1 = sorted([ len(G1[0]) for e in G1[0] ])\n",
    "degree_seq2 = sorted([ len(G2[0]) for v in G2[0] ])\n",
    "\n",
    "if degree_seq1 != degree_seq2:\n",
    "    print(False)\n",
    "print(degree_seq1)"
   ]
  },
  {
   "cell_type": "code",
   "execution_count": null,
   "id": "02e0afd5",
   "metadata": {},
   "outputs": [],
   "source": [
    "def adjacentDegree(Graph1, Graph2):\n",
    "    \n",
    "    \n",
    "\n",
    "    return True"
   ]
  }
 ],
 "metadata": {
  "kernelspec": {
   "display_name": "Python 3 (ipykernel)",
   "language": "python",
   "name": "python3"
  }
 },
 "nbformat": 4,
 "nbformat_minor": 5
}

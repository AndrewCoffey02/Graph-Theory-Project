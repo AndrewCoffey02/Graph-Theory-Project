{
 "cells": [
  {
   "cell_type": "code",
   "execution_count": null,
   "id": "396c6636-58fe-468e-a1df-13c3ba482488",
   "metadata": {},
   "outputs": [],
   "source": [
    "V1 = [\"a\",\"b\",\"c\",\"d\",\"e\",\"f\"]\n",
    "E1 = [{\"a\", \"b\"}, {\"a\", \"c\"}, {\"a\", \"d\"}, {\"a\", \"e\"}, {\"b\", \"d\"}, {\"b\", \"e\"}, {\"b\", \"f\"}, {\"c\", \"d\"}, {\"c\", \"f\"},\n",
    "{\"d\", \"f\"}, {\"e\", \"f\"}]\n",
    "V2 = [\"p\",\"q\",\"r\",\"s\",\"t\",\"u\"]\n",
    "E2 = [{\"p\", \"q\"}, {\"p\", \"s\"}, {\"p\", \"t\"}, {\"p\", \"u\"}, {\"q\", \"s\"}, {\"q\", \"t\"}, {\"r\", \"s\"}, {\"r\", \"t\"}, {\"r\", \"u\"}, {\"s\",\n",
    "\"u\"}, {\"t\", \"u\"}]\n"
   ]
  },
  {
   "cell_type": "code",
   "execution_count": null,
   "id": "f558d50f-37e8-4db0-9d03-1b9f09a80f73",
   "metadata": {},
   "outputs": [],
   "source": [
    "def isIsomorphic(vertices, edges):\n",
    "    Vlength = len(vertices)\n",
    "    Elength = len(edges)\n",
    "\n",
    "    return Elength\n",
    "    \n",
    "    "
   ]
  },
  {
   "cell_type": "code",
   "execution_count": null,
   "id": "f70b4f0a-d005-4520-9b91-0d45e54b6a00",
   "metadata": {},
   "outputs": [
    {
     "name": "stdout",
     "output_type": "stream",
     "text": [
      "11\n"
     ]
    }
   ],
   "source": [
    "length = isIsomorphic(V1, E1)\n",
    "print(length)"
   ]
  },
  {
   "cell_type": "code",
   "execution_count": null,
   "id": "37e101b5-53f0-4016-8306-922070c349be",
   "metadata": {},
   "outputs": [],
   "source": []
  },
  {
   "cell_type": "code",
   "execution_count": null,
   "id": "120f1f35",
   "metadata": {},
   "outputs": [],
   "source": []
  }
 ],
 "metadata": {
  "kernelspec": {
   "display_name": "Python 3 (ipykernel)",
   "language": "python",
   "name": "python3"
  },
  "language_info": {
   "codemirror_mode": {
    "name": "ipython",
    "version": 3
   },
   "file_extension": ".py",
   "mimetype": "text/x-python",
   "name": "python",
   "nbconvert_exporter": "python",
   "pygments_lexer": "ipython3",
   "version": "3.11.7"
  }
 },
 "nbformat": 4,
 "nbformat_minor": 5
}
